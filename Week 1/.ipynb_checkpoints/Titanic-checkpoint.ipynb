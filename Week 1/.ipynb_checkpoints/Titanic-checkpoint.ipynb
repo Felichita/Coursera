{
 "cells": [
  {
   "cell_type": "markdown",
   "metadata": {},
   "source": [
    "# Titanic: Machine Learning from Disaster."
   ]
  },
  {
   "cell_type": "raw",
   "metadata": {
    "collapsed": true
   },
   "source": [
    "# import library's"
   ]
  },
  {
   "cell_type": "code",
   "execution_count": 72,
   "metadata": {
    "collapsed": false
   },
   "outputs": [],
   "source": [
    "import pandas\n",
    "import re\n",
    "from sklearn.tree import DecisionTreeClassifier"
   ]
  },
  {
   "cell_type": "raw",
   "metadata": {},
   "source": [
    "# open dataset"
   ]
  },
  {
   "cell_type": "code",
   "execution_count": 73,
   "metadata": {
    "collapsed": true
   },
   "outputs": [],
   "source": [
    "data = pandas.read_csv('titanic.csv', index_col = 'PassengerId')"
   ]
  },
  {
   "cell_type": "raw",
   "metadata": {},
   "source": [
    "# Task №1 count male and female"
   ]
  },
  {
   "cell_type": "code",
   "execution_count": 74,
   "metadata": {
    "collapsed": false
   },
   "outputs": [
    {
     "name": "stdout",
     "output_type": "stream",
     "text": [
      "male      577\n",
      "female    314\n",
      "Name: Sex, dtype: int64\n"
     ]
    }
   ],
   "source": [
    "print data['Sex'].value_counts()"
   ]
  },
  {
   "cell_type": "raw",
   "metadata": {},
   "source": [
    "# Second Task - in percent who survived on Titanic"
   ]
  },
  {
   "cell_type": "code",
   "execution_count": 75,
   "metadata": {
    "collapsed": false
   },
   "outputs": [
    {
     "name": "stdout",
     "output_type": "stream",
     "text": [
      "38.38\n"
     ]
    }
   ],
   "source": [
    "survived = data['Survived'].value_counts()\n",
    "allPassenger = data.count()[0]\n",
    "percent = float(survived[1])/float(allPassenger)\n",
    "print (\"%.2f\" % (percent * 100))"
   ]
  },
  {
   "cell_type": "raw",
   "metadata": {},
   "source": [
    "# Third Task - count who from 1 Pclass"
   ]
  },
  {
   "cell_type": "code",
   "execution_count": 76,
   "metadata": {
    "collapsed": false
   },
   "outputs": [
    {
     "name": "stdout",
     "output_type": "stream",
     "text": [
      "24.24\n"
     ]
    }
   ],
   "source": [
    "Pclass = data['Pclass'].value_counts()[1]\n",
    "percent = float(Pclass)/float(allPassenger)\n",
    "print (\"%.2f\" % (percent * 100))"
   ]
  },
  {
   "cell_type": "raw",
   "metadata": {},
   "source": [
    "# Four Task - midle and median Age"
   ]
  },
  {
   "cell_type": "code",
   "execution_count": 77,
   "metadata": {
    "collapsed": false
   },
   "outputs": [
    {
     "name": "stdout",
     "output_type": "stream",
     "text": [
      "29.6991176471 28.0\n"
     ]
    }
   ],
   "source": [
    "age = data['Age']\n",
    "print age.mean() , age.median()"
   ]
  },
  {
   "cell_type": "raw",
   "metadata": {},
   "source": [
    "# Five Task - Search correlation Pirson"
   ]
  },
  {
   "cell_type": "code",
   "execution_count": 78,
   "metadata": {
    "collapsed": false
   },
   "outputs": [
    {
     "name": "stdout",
     "output_type": "stream",
     "text": [
      "0.41\n"
     ]
    }
   ],
   "source": [
    "SibSp = data['SibSp']\n",
    "Parch = data['Parch']\n",
    "print (\"%.2f\" % SibSp.corr(Parch))"
   ]
  },
  {
   "cell_type": "raw",
   "metadata": {},
   "source": [
    "# Six Task - Favorite female name on Titanic\n",
    "prepare data"
   ]
  },
  {
   "cell_type": "code",
   "execution_count": 79,
   "metadata": {
    "collapsed": false
   },
   "outputs": [
    {
     "name": "stdout",
     "output_type": "stream",
     "text": [
      "Anna    15\n",
      "Name: Name, dtype: int64\n"
     ]
    }
   ],
   "source": [
    "femaleName = data[data['Sex'] == 'female']['Name']\n",
    "def slice (name):\n",
    "\tif re.search(\"Miss\", name):\n",
    "\t\treturn name.split(\" \")[2]\n",
    "\telif re.search(\"Mrs\",name):\n",
    "\t\tresult = re.search(\"\\(([A-z]+)\",name)\n",
    "\t\tif result:\n",
    "\t\t\treturn result.group(1)\n",
    "\t\telse:\n",
    "\t\t\treturn 0\n",
    "favoriteName = femaleName.map(lambda name: slice(name)).value_counts()\n",
    "print favoriteName.head(1)"
   ]
  },
  {
   "cell_type": "raw",
   "metadata": {},
   "source": [
    "# statement-importance"
   ]
  },
  {
   "cell_type": "code",
   "execution_count": 80,
   "metadata": {
    "collapsed": false
   },
   "outputs": [
    {
     "name": "stdout",
     "output_type": "stream",
     "text": [
      "Fare and Sex are main features for Survival\n"
     ]
    }
   ],
   "source": [
    "dataImportance = data[['Survived','Pclass','Fare', 'Age', 'Sex']].dropna()\n",
    "survived = dataImportance['Survived']\n",
    "dataImportance = dataImportance[['Pclass','Fare', 'Age', 'Sex']].replace(to_replace=['male', 'female'], value=[1, 0])\n",
    "\n",
    "clf = DecisionTreeClassifier(random_state=241)\n",
    "clf.fit(dataImportance,survived)\n",
    "importances = clf.feature_importances_\n",
    "# print importances\n",
    "print 'Fare and Sex are main features for Survival'"
   ]
  }
 ],
 "metadata": {
  "kernelspec": {
   "display_name": "Python 2",
   "language": "python",
   "name": "python2"
  },
  "language_info": {
   "codemirror_mode": {
    "name": "ipython",
    "version": 2
   },
   "file_extension": ".py",
   "mimetype": "text/x-python",
   "name": "python",
   "nbconvert_exporter": "python",
   "pygments_lexer": "ipython2",
   "version": "2.7.11"
  }
 },
 "nbformat": 4,
 "nbformat_minor": 0
}
