{
 "cells": [
  {
   "cell_type": "markdown",
   "metadata": {},
   "source": [
    "### Part 1 - Gradient Boosting"
   ]
  },
  {
   "cell_type": "raw",
   "metadata": {},
   "source": [
    "# import library's"
   ]
  },
  {
   "cell_type": "code",
   "execution_count": 32,
   "metadata": {
    "collapsed": true
   },
   "outputs": [],
   "source": [
    "from __future__ import print_function\n",
    "from datetime import datetime\n",
    "from pandas import read_csv, DataFrame\n",
    "from sklearn.cross_validation import KFold, cross_val_predict\n",
    "from sklearn.ensemble import GradientBoostingClassifier\n",
    "from sklearn.linear_model import LogisticRegression\n",
    "from sklearn.metrics import roc_auc_score\n",
    "from sklearn.preprocessing import scale\n",
    "from numpy import logspace, zeros, hstack"
   ]
  },
  {
   "cell_type": "code",
   "execution_count": 33,
   "metadata": {
    "collapsed": false
   },
   "outputs": [],
   "source": [
    "run_gradient_boosting = True\n",
    "run_logistic_regression_for_all_features = True\n",
    "run_logistic_regression_for_truncated_features = True"
   ]
  },
  {
   "cell_type": "raw",
   "metadata": {
    "collapsed": true
   },
   "source": [
    "# Loading features.csv and remove signs related to the end of the match"
   ]
  },
  {
   "cell_type": "code",
   "execution_count": 34,
   "metadata": {
    "collapsed": false
   },
   "outputs": [],
   "source": [
    "features = read_csv(\"features.csv\", index_col=\"match_id\")\n",
    "features_data_columns = ['start_time',\n",
    "    'duration',\n",
    "    'tower_status_radiant',\n",
    "    'tower_status_dire',\n",
    "    'barracks_status_radiant',\n",
    "    'barracks_status_dire']\n",
    "features.drop(features_data_columns, axis=1, inplace=True)\n",
    "# The data ready"
   ]
  },
  {
   "cell_type": "raw",
   "metadata": {},
   "source": [
    "# The signs of having gaps among their values"
   ]
  },
  {
   "cell_type": "code",
   "execution_count": 35,
   "metadata": {
    "collapsed": false
   },
   "outputs": [
    {
     "name": "stdout",
     "output_type": "stream",
     "text": [
      "features with null:\n",
      "-first_blood_time\n",
      "-first_blood_team\n",
      "-first_blood_player1\n",
      "-first_blood_player2\n",
      "-radiant_bottle_time\n",
      "-radiant_courier_time\n",
      "-radiant_flying_courier_time\n",
      "-radiant_first_ward_time\n",
      "-dire_bottle_time\n",
      "-dire_courier_time\n",
      "-dire_flying_courier_time\n",
      "-dire_first_ward_time\n"
     ]
    }
   ],
   "source": [
    "f_counts = features.count()\n",
    "na_features = f_counts[f_counts != features.shape[0]].index.values\n",
    "print (\"features with null:\")\n",
    "for f in na_features:\n",
    "    print (\"-\" + f)"
   ]
  },
  {
   "cell_type": "code",
   "execution_count": 36,
   "metadata": {
    "collapsed": true
   },
   "outputs": [],
   "source": [
    "for name in na_features: features[name].fillna(0, inplace=True) # заполнение нулями ... и отбор эталонов выборки"
   ]
  },
  {
   "cell_type": "raw",
   "metadata": {},
   "source": [
    "# extract the target value from features"
   ]
  },
  {
   "cell_type": "code",
   "execution_count": 37,
   "metadata": {
    "collapsed": true
   },
   "outputs": [],
   "source": [
    "target = 'radiant_win'\n",
    "\n",
    "y = features[target]\n",
    "features.drop(target, axis=1, inplace=True)\n",
    "X = features"
   ]
  },
  {
   "cell_type": "markdown",
   "metadata": {
    "collapsed": true
   },
   "source": [
    "# Predict class probabilities for X gradient boosting"
   ]
  },
  {
   "cell_type": "code",
   "execution_count": 43,
   "metadata": {
    "collapsed": false
   },
   "outputs": [
    {
     "name": "stdout",
     "output_type": "stream",
     "text": [
      "10 trees, 0:01:04.943582 to fit, ROC-AUC score: 0.61\n",
      "20 trees, 0:01:50.147437 to fit, ROC-AUC score: 0.63\n",
      "30 trees, 0:02:38.960601 to fit, ROC-AUC score: 0.63\n"
     ]
    }
   ],
   "source": [
    "folds = KFold(features.shape[0], n_folds=5, shuffle=True)\n",
    "\n",
    "for num in range(10,31)[::10]:\n",
    "    start_time = datetime.now()\n",
    "    probas = cross_val_predict(GradientBoostingClassifier(n_estimators=num), X=X, y=y, cv=folds, n_jobs=-1)\n",
    "    score = roc_auc_score(y, probas)\n",
    "    \n",
    "    elapsed_time = datetime.now() - start_time\n",
    "    print('{0} trees, {1} to fit, ROC-AUC score: {2:.2f}'.format(num, elapsed_time, score))\n"
   ]
  }
 ],
 "metadata": {
  "kernelspec": {
   "display_name": "Python 2",
   "language": "python",
   "name": "python2"
  },
  "language_info": {
   "codemirror_mode": {
    "name": "ipython",
    "version": 2
   },
   "file_extension": ".py",
   "mimetype": "text/x-python",
   "name": "python",
   "nbconvert_exporter": "python",
   "pygments_lexer": "ipython2",
   "version": "2.7.11"
  }
 },
 "nbformat": 4,
 "nbformat_minor": 0
}
